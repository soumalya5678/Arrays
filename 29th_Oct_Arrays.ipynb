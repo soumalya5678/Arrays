{
 "cells": [
  {
   "cell_type": "code",
   "execution_count": 1,
   "id": "54dffee7-672b-444d-9ef3-b134892e5468",
   "metadata": {},
   "outputs": [],
   "source": [
    "def check_duplicate(arr):\n",
    "    for i in arr:\n",
    "        for j in arr:\n",
    "            if i==j:\n",
    "                return True\n",
    "            else:\n",
    "                return False"
   ]
  },
  {
   "cell_type": "code",
   "execution_count": 2,
   "id": "f98558d4-9b23-4187-97bf-6fd30d0bcd07",
   "metadata": {},
   "outputs": [
    {
     "data": {
      "text/plain": [
       "True"
      ]
     },
     "execution_count": 2,
     "metadata": {},
     "output_type": "execute_result"
    }
   ],
   "source": [
    "check_duplicate([1,2,4,2,5,9])"
   ]
  },
  {
   "cell_type": "code",
   "execution_count": 78,
   "id": "e409a539-23d8-4cd1-a9ad-a394d4438245",
   "metadata": {},
   "outputs": [],
   "source": [
    "def rotate_array(arr,k):\n",
    "    n=len(arr)\n",
    "    for i in range(0,k):\n",
    "        temp=arr[0]\n",
    "        for j in range(0,n-1):\n",
    "            arr[j]=arr[j+1]\n",
    "            arr[n-1]=temp\n",
    " \n",
    "    return arr"
   ]
  },
  {
   "cell_type": "code",
   "execution_count": 79,
   "id": "5458b899-707e-463c-add5-69523016dbd0",
   "metadata": {},
   "outputs": [
    {
     "data": {
      "text/plain": [
       "[4, 5, 6, 1, 2, 3, 3]"
      ]
     },
     "execution_count": 79,
     "metadata": {},
     "output_type": "execute_result"
    }
   ],
   "source": [
    "rotate_array([1,2,3,4,5,6,7],3)"
   ]
  },
  {
   "cell_type": "code",
   "execution_count": 74,
   "id": "553a74d5-c4e3-402f-a5f1-17ed38476f34",
   "metadata": {},
   "outputs": [],
   "source": [
    "def reverse_array(arr):\n",
    "    n=len(arr)\n",
    "    temp=0\n",
    "    i=0\n",
    "    j=n-1\n",
    "    while i<j:\n",
    "        temp=arr[i]\n",
    "        arr[i]=arr[j]\n",
    "        arr[j]=temp\n",
    "        i=i+1\n",
    "        j=j-1\n",
    "            \n",
    "    return arr\n",
    "            "
   ]
  },
  {
   "cell_type": "code",
   "execution_count": 75,
   "id": "c192e1eb-f728-4c82-8a8e-5b04810ebc49",
   "metadata": {},
   "outputs": [
    {
     "data": {
      "text/plain": [
       "[5, 4, 3, 2, 1]"
      ]
     },
     "execution_count": 75,
     "metadata": {},
     "output_type": "execute_result"
    }
   ],
   "source": [
    "reverse_array([1,2,3,4,5])"
   ]
  },
  {
   "cell_type": "code",
   "execution_count": 54,
   "id": "fc4d8e6f-ef64-4079-b8c7-3cc92bae5a8f",
   "metadata": {},
   "outputs": [],
   "source": [
    "def find_max(arr):\n",
    "    max_num=0\n",
    "    for i in arr:\n",
    "        if i>max_num:\n",
    "            max_num=i\n",
    "    return max_num\n",
    "            "
   ]
  },
  {
   "cell_type": "code",
   "execution_count": 55,
   "id": "6d6248e8-f2e2-4f37-93d4-fcce5e0d39ab",
   "metadata": {},
   "outputs": [
    {
     "data": {
      "text/plain": [
       "20"
      ]
     },
     "execution_count": 55,
     "metadata": {},
     "output_type": "execute_result"
    }
   ],
   "source": [
    "find_max([10, 5, 20, 8, 15])"
   ]
  },
  {
   "cell_type": "code",
   "execution_count": 69,
   "id": "7b1c70d4-1481-46a7-9838-d7bf09d2fb06",
   "metadata": {},
   "outputs": [],
   "source": [
    "def remove_duplicate(arr):\n",
    "    arr1=[]\n",
    "    for i in arr:\n",
    "        for j in arr:\n",
    "            if i==j:\n",
    "                arr.remove(i)\n",
    "            \n",
    "    return arr\n",
    "\n",
    "                \n",
    "            "
   ]
  },
  {
   "cell_type": "code",
   "execution_count": 71,
   "id": "d1cd291a-bfd3-4019-86f0-e0ef82e06ae4",
   "metadata": {},
   "outputs": [
    {
     "data": {
      "text/plain": [
       "[1, 2, 3, 4, 5]"
      ]
     },
     "execution_count": 71,
     "metadata": {},
     "output_type": "execute_result"
    }
   ],
   "source": [
    "remove_duplicate([1, 1, 2, 2, 2, 3, 3, 4, 4, 4, 5, 5])"
   ]
  },
  {
   "cell_type": "code",
   "execution_count": null,
   "id": "769705fa-f0f0-45d9-81a6-69161c9e1408",
   "metadata": {},
   "outputs": [],
   "source": []
  }
 ],
 "metadata": {
  "kernelspec": {
   "display_name": "Python 3 (ipykernel)",
   "language": "python",
   "name": "python3"
  },
  "language_info": {
   "codemirror_mode": {
    "name": "ipython",
    "version": 3
   },
   "file_extension": ".py",
   "mimetype": "text/x-python",
   "name": "python",
   "nbconvert_exporter": "python",
   "pygments_lexer": "ipython3",
   "version": "3.10.8"
  }
 },
 "nbformat": 4,
 "nbformat_minor": 5
}
